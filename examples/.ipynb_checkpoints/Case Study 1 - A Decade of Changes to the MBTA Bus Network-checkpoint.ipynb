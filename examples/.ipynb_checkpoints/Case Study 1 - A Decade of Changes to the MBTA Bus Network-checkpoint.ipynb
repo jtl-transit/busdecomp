{
 "cells": [
  {
   "cell_type": "code",
   "execution_count": 7,
   "id": "e3134faf",
   "metadata": {},
   "outputs": [
    {
     "ename": "SyntaxError",
     "evalue": "invalid syntax (3452259347.py, line 7)",
     "output_type": "error",
     "traceback": [
      "\u001b[1;36m  File \u001b[1;32m\"C:\\Users\\Nick\\AppData\\Local\\Temp\\ipykernel_17140\\3452259347.py\"\u001b[1;36m, line \u001b[1;32m7\u001b[0m\n\u001b[1;33m    from ../busdecomp import *\u001b[0m\n\u001b[1;37m           ^\u001b[0m\n\u001b[1;31mSyntaxError\u001b[0m\u001b[1;31m:\u001b[0m invalid syntax\n"
     ]
    }
   ],
   "source": [
    "import sys\n",
    " \n",
    "# Set path to parent directory\n",
    "sys.path.append('../')\n",
    " \n",
    "# Import functions\n",
    "from busdecomp import *"
   ]
  },
  {
   "cell_type": "code",
   "execution_count": null,
   "id": "98c83801",
   "metadata": {},
   "outputs": [],
   "source": []
  },
  {
   "cell_type": "code",
   "execution_count": null,
   "id": "44043727",
   "metadata": {},
   "outputs": [],
   "source": []
  }
 ],
 "metadata": {
  "kernelspec": {
   "display_name": "busdecomp",
   "language": "python",
   "name": "busdecomp"
  },
  "language_info": {
   "codemirror_mode": {
    "name": "ipython",
    "version": 3
   },
   "file_extension": ".py",
   "mimetype": "text/x-python",
   "name": "python",
   "nbconvert_exporter": "python",
   "pygments_lexer": "ipython3",
   "version": "3.9.16"
  }
 },
 "nbformat": 4,
 "nbformat_minor": 5
}
